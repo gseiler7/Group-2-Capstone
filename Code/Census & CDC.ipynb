{
 "cells": [
  {
   "cell_type": "markdown",
   "id": "306df855",
   "metadata": {},
   "source": [
    "# CDC"
   ]
  },
  {
   "cell_type": "code",
   "execution_count": null,
   "id": "9f4daccc",
   "metadata": {},
   "outputs": [],
   "source": [
    "import pandas as pd\n",
    "import os\n",
    "\n",
    "parent_root = os.path.dirname(os.getcwd())\n",
    "\n",
    "data = pd.read_csv(f'{parent_root}/Data/Behavioral_Risk_Factor_Surveillance_System__BRFSS__-__National_Cardiovascular_Disease_Surveillance_Data.csv')"
   ]
  },
  {
   "cell_type": "code",
   "execution_count": null,
   "id": "ed6fa673",
   "metadata": {},
   "outputs": [],
   "source": [
    "drop_list = ['row_id',\n",
    "             'DataSource',\n",
    "             'PriorityArea1',\n",
    "             'PriorityArea2',\n",
    "             'PriorityArea3',\n",
    "             'PriorityArea4',\n",
    "             'CategoryId',\n",
    "             'IndicatorID',\n",
    "             'Data_Value_TypeID',\n",
    "             'BreakOutCategoryId',\n",
    "             'Data_Value_Unit',\n",
    "             'LowConfidenceLimit',\n",
    "             'HighConfidenceLimit',\n",
    "             'BreakOutId',\n",
    "             'LocationID',\n",
    "             'TopicId',\n",
    "             'Data_Value_Footnote',\n",
    "             'Data_Value_Footnote_Symbol',\n",
    "             'Geolocation']\n",
    "\n",
    "\n",
    "data_dropped = data.drop(drop_list,axis=1)"
   ]
  },
  {
   "cell_type": "code",
   "execution_count": null,
   "id": "330459a4",
   "metadata": {
    "scrolled": true
   },
   "outputs": [],
   "source": [
    "# Remove rows where Data_Value_Alt = -2\n",
    "\n",
    "data_dropped[data_dropped['Data_Value_Alt'] != -2]\n",
    "\n",
    "# Filter Year of 2018\n",
    "\n",
    "data_dropped[data_dropped['Year'] == 2018]\n",
    "\n",
    "# Filter by Category\n",
    "\n",
    "cardio = data_dropped[data_dropped['Category'] == \"Cardiovascular Diseases\"]\n",
    "riskfactor = data_dropped[data_dropped['Category'] == \"Risk Factors\"]"
   ]
  },
  {
   "cell_type": "code",
   "execution_count": null,
   "id": "aef8601e",
   "metadata": {},
   "outputs": [],
   "source": [
    "cardio.Topic.value_counts()"
   ]
  },
  {
   "cell_type": "code",
   "execution_count": null,
   "id": "76e05457",
   "metadata": {},
   "outputs": [],
   "source": [
    "23437/126256"
   ]
  },
  {
   "cell_type": "markdown",
   "id": "80b6b235",
   "metadata": {},
   "source": [
    "# Census"
   ]
  },
  {
   "cell_type": "code",
   "execution_count": null,
   "id": "e51cc216",
   "metadata": {},
   "outputs": [],
   "source": [
    "import requests\n",
    "\n",
    "var = requests.get(\"https://api.census.gov/data/2018/acs/acs1/subject/variables.json\").json()"
   ]
  },
  {
   "cell_type": "code",
   "execution_count": null,
   "id": "bd0c58a3",
   "metadata": {},
   "outputs": [],
   "source": [
    "key = \"16effcabd5d51ae74821b3639db3844d8c7f1beb\"\n",
    "\n",
    "table = requests.get(f\"https://api.census.gov/data/2018/acs/acs1/subject?get=group(S2701)&for=state:*&key={key}\").json()"
   ]
  },
  {
   "cell_type": "markdown",
   "id": "6e7ba13d",
   "metadata": {},
   "source": [
    "# Get indices of unwanted columns"
   ]
  },
  {
   "cell_type": "code",
   "execution_count": null,
   "id": "4a82dcf3",
   "metadata": {},
   "outputs": [],
   "source": [
    "index_list = [table[0].index(x) if x[-1] == \"M\" or x[-2:] == \"MA\" or x[-2:] == \"EA\" else None for x in table[0]]\n",
    "index_list = list(filter(lambda x: x!=None, index_list))"
   ]
  },
  {
   "cell_type": "markdown",
   "id": "57d47105",
   "metadata": {},
   "source": [
    "### Remove the columns"
   ]
  },
  {
   "cell_type": "code",
   "execution_count": null,
   "id": "3d71b9f7",
   "metadata": {},
   "outputs": [],
   "source": [
    "new_table = []\n",
    "for rows in table:\n",
    "    \n",
    "    rows = ['None' if x is None else x for x in rows]\n",
    "    \n",
    "    offset = 0\n",
    "    for ind in index_list:\n",
    "        rows.pop(ind-offset)\n",
    "        offset += 1\n",
    "    new_table.append(rows)"
   ]
  },
  {
   "cell_type": "markdown",
   "id": "115513c4",
   "metadata": {},
   "source": [
    "### Replace header using var json"
   ]
  },
  {
   "cell_type": "code",
   "execution_count": null,
   "id": "e83827f2",
   "metadata": {},
   "outputs": [],
   "source": [
    "for x in new_table[0]:\n",
    "    \n",
    "    try:\n",
    "        col = var['variables'][x]['label'].split(\"!!\")\n",
    "        ind = new_table[0].index(x)\n",
    "        \n",
    "        print(col)\n",
    "        if len(col) > 3: \n",
    "            new_table[0][ind] = col[1] + \"!!\"+ \"!!\".join(col[3:])\n",
    "        else:\n",
    "            new_table[0][ind] = col[1] + \"!!\"+ col[-1]\n",
    "    except:\n",
    "        None\n",
    "        "
   ]
  },
  {
   "cell_type": "markdown",
   "id": "2d236cd4",
   "metadata": {},
   "source": [
    "### Write to csv"
   ]
  },
  {
   "cell_type": "code",
   "execution_count": null,
   "id": "27b0417f",
   "metadata": {},
   "outputs": [],
   "source": [
    "import csv\n",
    "\n",
    "with open('test.csv', 'w+', newline='') as csvfile:\n",
    "    spamwriter = csv.writer(csvfile,delimiter = \",\")\n",
    "    for rows in new_table:\n",
    "        spamwriter.writerow(rows)"
   ]
  },
  {
   "cell_type": "markdown",
   "id": "a6d62488",
   "metadata": {},
   "source": [
    "# Read in CSV to Dataframe & Transform Data"
   ]
  },
  {
   "cell_type": "code",
   "execution_count": null,
   "id": "edbad8a1",
   "metadata": {},
   "outputs": [],
   "source": [
    "import pandas as pd\n",
    "\n",
    "data = pd.read_csv('test.csv')"
   ]
  },
  {
   "cell_type": "code",
   "execution_count": null,
   "id": "02cca807",
   "metadata": {},
   "outputs": [],
   "source": [
    "def filterColumns(dataframe,key=[]):\n",
    "    columns = []\n",
    "    for x in key:\n",
    "        columns.append(dataframe.filter(like=x))\n",
    "    return pd.concat(columns,axis=1)"
   ]
  },
  {
   "cell_type": "markdown",
   "id": "63bd8e4c",
   "metadata": {},
   "source": [
    "# Get Table Names"
   ]
  },
  {
   "cell_type": "code",
   "execution_count": null,
   "id": "bbadac23",
   "metadata": {},
   "outputs": [],
   "source": [
    "colname = filterColumns(data,['NAME','Total']).columns\n",
    "tablename = []\n",
    "\n",
    "for x in colname:\n",
    "    if len(x.split(\"!!\")) > 2:\n",
    "        tablename.append(x.split(\"!!\")[1])"
   ]
  },
  {
   "cell_type": "code",
   "execution_count": null,
   "id": "69d7aadd",
   "metadata": {},
   "outputs": [],
   "source": [
    "tablename = set(tablename)"
   ]
  },
  {
   "cell_type": "code",
   "execution_count": null,
   "id": "32888dee",
   "metadata": {},
   "outputs": [],
   "source": [
    "listofdataframes = []\n",
    "for name in tablename:\n",
    "    print(name)\n",
    "    listofdataframes.append(filterColumns(data,['NAME',name]))"
   ]
  },
  {
   "cell_type": "markdown",
   "id": "dc217d7a",
   "metadata": {},
   "source": [
    "# Establish connection with sql database"
   ]
  },
  {
   "cell_type": "code",
   "execution_count": 163,
   "id": "d1122763",
   "metadata": {},
   "outputs": [],
   "source": [
    "import pymssql\n",
    "\n",
    "#SQL config\n",
    "server = \"gen10-data-fundamentals-21-11-sql-server.database.windows.net\"\n",
    "database = \"group2\"\n",
    "user = \"group2\"\n",
    "password = \"capstonedev10!!\"\n",
    "table = \"heart_disease\"\n",
    "\n",
    "conn = pymssql.connect(server=server, user=user, password=password,database=database)\n",
    "c = conn.cursor()"
   ]
  },
  {
   "cell_type": "code",
   "execution_count": 201,
   "id": "3e8b890c",
   "metadata": {},
   "outputs": [],
   "source": [
    "# convert pandas dataframe datatype to sql datatype\n",
    "\n",
    "def dtypetosql(datatype):\n",
    "    sql = []\n",
    "    for x in datatype:\n",
    "        #print(x)\n",
    "        if x == \"object\":\n",
    "            s = \"varchar(500)\"\n",
    "        elif x == \"int64\":\n",
    "            s = \"int\"\n",
    "        elif x == \"float64\":\n",
    "            s = \"float\"\n",
    "        sql.append(s)\n",
    "    return sql\n",
    "        "
   ]
  },
  {
   "cell_type": "markdown",
   "id": "e1aa209c",
   "metadata": {},
   "source": [
    "### Replace whistespace with underscore"
   ]
  },
  {
   "cell_type": "code",
   "execution_count": 215,
   "id": "02532323",
   "metadata": {},
   "outputs": [
    {
     "name": "stdout",
     "output_type": "stream",
     "text": [
      "\n",
      "\n",
      "Execution failed on sql 'SELECT name FROM sqlite_master WHERE type='table' AND name=?;': 'params' arg (<class 'list'>) can be only a tuple or a dictionary.\n",
      "\n",
      "\n",
      "Execution failed on sql 'SELECT name FROM sqlite_master WHERE type='table' AND name=?;': 'params' arg (<class 'list'>) can be only a tuple or a dictionary.\n",
      "\n",
      "\n",
      "Execution failed on sql 'SELECT name FROM sqlite_master WHERE type='table' AND name=?;': 'params' arg (<class 'list'>) can be only a tuple or a dictionary.\n",
      "\n",
      "\n",
      "Execution failed on sql 'SELECT name FROM sqlite_master WHERE type='table' AND name=?;': 'params' arg (<class 'list'>) can be only a tuple or a dictionary.\n",
      "\n",
      "\n",
      "Execution failed on sql 'SELECT name FROM sqlite_master WHERE type='table' AND name=?;': 'params' arg (<class 'list'>) can be only a tuple or a dictionary.\n",
      "\n",
      "\n",
      "Execution failed on sql 'SELECT name FROM sqlite_master WHERE type='table' AND name=?;': 'params' arg (<class 'list'>) can be only a tuple or a dictionary.\n",
      "\n",
      "\n",
      "Execution failed on sql 'SELECT name FROM sqlite_master WHERE type='table' AND name=?;': 'params' arg (<class 'list'>) can be only a tuple or a dictionary.\n",
      "\n",
      "\n",
      "Execution failed on sql 'SELECT name FROM sqlite_master WHERE type='table' AND name=?;': 'params' arg (<class 'list'>) can be only a tuple or a dictionary.\n",
      "\n",
      "\n",
      "Execution failed on sql 'SELECT name FROM sqlite_master WHERE type='table' AND name=?;': 'params' arg (<class 'list'>) can be only a tuple or a dictionary.\n",
      "\n",
      "\n",
      "Execution failed on sql 'SELECT name FROM sqlite_master WHERE type='table' AND name=?;': 'params' arg (<class 'list'>) can be only a tuple or a dictionary.\n",
      "\n",
      "\n",
      "Execution failed on sql 'SELECT name FROM sqlite_master WHERE type='table' AND name=?;': 'params' arg (<class 'list'>) can be only a tuple or a dictionary.\n"
     ]
    }
   ],
   "source": [
    "for i in range(len(tablename)):\n",
    "    table = list(tablename)[i].replace(\" \",\"_\").replace(\"(\",\"\").replace(\")\",\"\").replace(\"-\",\"_\").replace(\".\",\"_\")\n",
    "    sql_colname = list(map(lambda x: x.replace(\" \",\"_\").replace(\"!!\",\"_\").replace(table,\"\").replace(\"(\",\"\").replace(\")\",\"\").replace(\"'\",\"\").replace(\".\",\"\")\\\n",
    "                           .replace(\"Civilian_noninstitutionalized_population\",\"CNP\").replace(\"-\",\"_\").replace(\",\",\"\")\n",
    "                           ,listofdataframes[i].columns))\n",
    "\n",
    "    # join colname with datatype\n",
    "    l = list(zip(sql_colname,dtypetosql(listofdataframes[i].dtypes)))\n",
    "\n",
    "    # dissect tuple due to zip func\n",
    "    sql_colcommands = list(map(lambda x: \" \".join(x),l))\n",
    "\n",
    "    sql_str = \", \".join(sql_colcommands)\n",
    "    \n",
    "    try:\n",
    "        c.execute(f'CREATE TABLE {table.lower().capitalize()} ({sql_str})')\n",
    "    except Exception as e:\n",
    "        print('\\n')\n",
    "    \n",
    "    try:\n",
    "        listofdataframes[i].to_sql(table.lower().capitalize(), conn, if_exists='replace', index = False)\n",
    "    except Exception as e:\n",
    "        print(e)\n",
    "    #conn.commit()"
   ]
  },
  {
   "cell_type": "code",
   "execution_count": null,
   "id": "ebd95457",
   "metadata": {},
   "outputs": [],
   "source": []
  }
 ],
 "metadata": {
  "kernelspec": {
   "display_name": "Python 3 (ipykernel)",
   "language": "python",
   "name": "python3"
  },
  "language_info": {
   "codemirror_mode": {
    "name": "ipython",
    "version": 3
   },
   "file_extension": ".py",
   "mimetype": "text/x-python",
   "name": "python",
   "nbconvert_exporter": "python",
   "pygments_lexer": "ipython3",
   "version": "3.9.7"
  }
 },
 "nbformat": 4,
 "nbformat_minor": 5
}
